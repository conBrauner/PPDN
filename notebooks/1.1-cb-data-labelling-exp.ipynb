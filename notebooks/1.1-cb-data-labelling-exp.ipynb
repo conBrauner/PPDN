{
 "cells": [
  {
   "cell_type": "code",
   "execution_count": 1,
   "metadata": {},
   "outputs": [],
   "source": [
    "# Standard library imports\n",
    "import os\n",
    "import sys\n",
    "import warnings\n",
    "\n",
    "# Third party imports\n",
    "import numpy as np\n",
    "import matplotlib.pyplot as plt\n",
    "import mat73\n",
    "import rpy2.robjects as robjects\n",
    "from scipy.signal import butter, find_peaks, lfilter\n",
    "\n",
    "# Local imports\n",
    "from src.features.preprocessing import *\n",
    "from src.visualization.data_vis import *\n",
    "\n",
    "# Notebook magic\n",
    "%matplotlib inline"
   ]
  },
  {
   "cell_type": "markdown",
   "metadata": {},
   "source": [
    "First we can load data and print a summary of what kinds of neurons are available from the complete dataset."
   ]
  },
  {
   "cell_type": "code",
   "execution_count": 2,
   "metadata": {},
   "outputs": [
    {
     "name": "stdout",
     "output_type": "stream",
     "text": [
      "Number of pyramidal neurons: 107\n",
      "pyramidal start label: 1.0\n",
      "pyramidal end label: 107.0\n",
      "\n",
      "Number of interneurons: 14\n",
      "interneuron start label: 108.0\n",
      "interneuron end label: 121.0\n"
     ]
    }
   ],
   "source": [
    "# Load up a file of interest\n",
    "recording_of_interest = \"fitted_data_mjc58-2301-0117.mat\"\n",
    "file_data = mat73.loadmat('/'.join([os.getcwd(), 'data', 'raw', recording_of_interest]))\n",
    "\n",
    "# Picking out some of the data structures of interest\n",
    "qspike = file_data['qspike'] # aligned spike times \n",
    "pyrspike = file_data['pyrspike']\n",
    "intspike = file_data['intspike']\n",
    "time_pos = file_data['time_pos'] # [1, nt] time vector with the time; dt = t[1] - t[0]\n",
    "BP = file_data['BP']\n",
    "theta = file_data['lfp']\n",
    "theta_time_axis = file_data['time_eeg']\n",
    "trial_theta_start_indices = (file_data['tp']*file_data['fs2']).astype(int)\n",
    "\n",
    "# Define some constants for the data\n",
    "dt = time_pos[1] - time_pos[0]\n",
    "T = dt*time_pos.size\n",
    "\n",
    "# Summarize neuron population\n",
    "print(f'Number of pyramidal neurons: {len(list(set(pyrspike[:, 0])))}')\n",
    "print(f'pyramidal start label: {np.amin(pyrspike[:, 0])}')\n",
    "print(f'pyramidal end label: {np.amax(pyrspike[:, 0])}\\n')\n",
    "\n",
    "print(f'Number of interneurons: {len(list(set(intspike[:, 0])))}')\n",
    "print(f'interneuron start label: {np.amin(intspike[:, 0])}')\n",
    "print(f'interneuron end label: {np.amax(intspike[:, 0])}')"
   ]
  },
  {
   "cell_type": "markdown",
   "metadata": {},
   "source": [
    "Next, let's remove interneurons from the spike-aligned data, print off any missing pyramidals, ensure the data is structured how some of the preprocessing algorithms assume and create a list which will allow me to combine trial data."
   ]
  },
  {
   "cell_type": "code",
   "execution_count": 3,
   "metadata": {},
   "outputs": [
    {
     "name": "stdout",
     "output_type": "stream",
     "text": [
      "Pyramidal neurons [38.0, 66.0, 82.0, 86.0, 90.0] absent from spike-aligned data.\n"
     ]
    }
   ],
   "source": [
    "# Prepare data, note missing data and ensure it is structured appropriately\n",
    "\n",
    "# Eliminate interneurons\n",
    "interneuron_indices = []\n",
    "for i, label in enumerate(qspike[:, 2]):\n",
    "    if label in intspike[:, 0]:\n",
    "        interneuron_indices.append(i)\n",
    "pyr_qspike = np.delete(qspike, interneuron_indices, axis=0)\n",
    "\n",
    "# Note any pyramidals missing from qspike\n",
    "pyr_missing = []\n",
    "pyr_qspike_labels = np.array(list(set(pyr_qspike[:, 2])))\n",
    "pyr_labels = np.array(list(set(pyrspike[:, 0])))\n",
    "for label in pyr_labels:\n",
    "    if label not in pyr_qspike_labels:\n",
    "        pyr_missing.append(label)\n",
    "print(f'Pyramidal neurons {pyr_missing} absent from spike-aligned data.')\n",
    "\n",
    "# Ensure trial data is partitioned nicely for each neuron\n",
    "if not np.all(np.diff(pyr_qspike[:, 2]) >= 0):\n",
    "    raise Exception('Neuron data is not consolidated in pyr_qspike')\n",
    "successes = 0\n",
    "pyr_num_trials = []\n",
    "for label in pyr_qspike_labels:\n",
    "    single_neuron_data = pyr_qspike[np.where(pyr_qspike[:, 2] == label)]\n",
    "    trials = list(single_neuron_data[:, 0]) # Intermediate variable\n",
    "    if not np.all(np.diff(trials) >= 0) and not np.all(np.diff(trials) < 2):\n",
    "        raise Exception(f'Neuron {label}\\'s trial data is either not sorted or skips trials')\n",
    "    trials = list(set(single_neuron_data[:, 0]))\n",
    "    if len(trials) != 0:\n",
    "        pyr_num_trials.append(len(trials))\n",
    "\n",
    "# Create a list for indexing trial data corresponding to individual pyramidal cells\n",
    "pyr_trial_start_indices = []\n",
    "for i in range(len(pyr_num_trials)):\n",
    "    pyr_trial_start_indices.append(sum(pyr_num_trials[:i]))\n",
    "\n",
    "# Create a label vector for the individual trials\n",
    "pyr_trial_neuron_label = []\n",
    "pyr_trial_number_label = []\n",
    "for label_i, num_trials in enumerate(pyr_num_trials):\n",
    "    pyr_trial_neuron_label.extend([pyr_qspike_labels[label_i] for trial in range(num_trials)])\n",
    "    pyr_trial_number_label.extend(list(range(1, num_trials + 1)))"
   ]
  },
  {
   "cell_type": "markdown",
   "metadata": {},
   "source": [
    "With that out of the way, let's create constructs that permits analysis of both the individual AND combined trial data for each neuron.  "
   ]
  },
  {
   "cell_type": "code",
   "execution_count": 4,
   "metadata": {},
   "outputs": [],
   "source": [
    "# Separate out spike times for each trial\n",
    "trial_partition_indices = partition_spikes(pyr_qspike)\n",
    "trial_spike_times = separate_neuron_data(trial_partition_indices, pyr_qspike)\n",
    "\n",
    "# Just as in the initial data exploration, we can combine spike times across trials\n",
    "pyr_combined_trials = []\n",
    "for i, start_i in enumerate(pyr_trial_start_indices):\n",
    "    if i == 0:\n",
    "        neuron_data = trial_spike_times[0:pyr_trial_start_indices[1]]\n",
    "        pyr_combined_trials.append(np.concatenate(neuron_data, axis=0))\n",
    "    elif i < len(pyr_trial_start_indices) - 1:\n",
    "        neuron_data = trial_spike_times[start_i:pyr_trial_start_indices[i + 1]]\n",
    "        pyr_combined_trials.append(np.concatenate(neuron_data, axis=0))\n",
    "    else:\n",
    "        neuron_data = trial_spike_times[start_i:]\n",
    "        pyr_combined_trials.append(np.concatenate(neuron_data, axis=0))"
   ]
  },
  {
   "cell_type": "code",
   "execution_count": 5,
   "metadata": {},
   "outputs": [
    {
     "name": "stdout",
     "output_type": "stream",
     "text": [
      "1719\n"
     ]
    }
   ],
   "source": [
    "# Control parameters\n",
    "N = 512\n",
    "bandwidth = 0.02\n",
    "verbose = False\n",
    "\n",
    "# Dominant Frequency Analysis: individual trials\n",
    "kde_x_indiv, kde_y_indiv = r_spike_kde(trial_spike_times, bandwidth, N)\n",
    "print(len(kde_x_indiv))\n",
    "\n",
    "dominant_frequencies_indiv = np.empty((len(kde_x_indiv), 2))\n",
    "for i, kde_x in enumerate(kde_x_indiv):\n",
    "    if verbose == True:\n",
    "        dom_freq_fft, dom_freq_time = dominant_frequency(kde_x, kde_y_indiv[i], plot=True)\n",
    "        print(f'Dom freq FFT: {dom_freq_fft}; Dom freq time: {dom_freq_time}')\n",
    "        print(f'Dom freq error: {np.abs(dom_freq_fft - dom_freq_time)}')\n",
    "    else:\n",
    "        dom_freq_fft, dom_freq_time = dominant_frequency(kde_x, kde_y_indiv[i], plot=False)\n",
    "    \n",
    "    # Store the dominant frequency returned by each method\n",
    "    dominant_frequencies_indiv[i, 0] = dom_freq_fft\n",
    "    dominant_frequencies_indiv[i, 1] = dom_freq_time\n",
    "\n",
    "# Clean up by ditching undefined frequencies\n",
    "nan_rows = []\n",
    "for row_i, val in enumerate(dominant_frequencies_indiv[:, 0]):\n",
    "    if np.isnan(val) == True:\n",
    "        nan_rows.append(row_i)\n",
    "dominant_frequencies_indiv = np.delete(dominant_frequencies_indiv, nan_rows, axis=0) # Delete undefined frequencies\n",
    "\n",
    "# Delete corresponding entries in label vectors to preserve accuracy\n",
    "pyr_trial_number_label = np.delete(np.array(pyr_trial_number_label), nan_rows) \n",
    "pyr_trial_neuron_label = np.delete(np.array(pyr_trial_neuron_label), nan_rows)\n",
    "for i in sorted(nan_rows, reverse=True):\n",
    "    del kde_x_indiv[i]\n",
    "    del trial_spike_times[i]"
   ]
  },
  {
   "cell_type": "code",
   "execution_count": 6,
   "metadata": {},
   "outputs": [],
   "source": [
    "# Control parameters\n",
    "N = 512\n",
    "bandwidth = 0.02\n",
    "verbose = False\n",
    "\n",
    "# Dominant Frequency Analysis: combined trials\n",
    "kde_x_combined, kde_y_combined = r_spike_kde(pyr_combined_trials, bandwidth, N)\n",
    "\n",
    "dominant_frequencies_combined = np.empty((len(kde_x_combined), 2))\n",
    "for i, kde_x in enumerate(kde_x_combined):\n",
    "    if verbose == True:\n",
    "        dom_freq_fft, dom_freq_time = dominant_frequency(kde_x, kde_y_combined[i], plot=True)\n",
    "        print(f'Dom freq FFT: {dom_freq_fft}; Dom freq time: {dom_freq_time}')\n",
    "        print(f'Dom freq error: {np.abs(dom_freq_fft - dom_freq_time)}')\n",
    "    else:\n",
    "        dom_freq_fft, dom_freq_time = dominant_frequency(kde_x, kde_y_combined[i], plot=False)\n",
    "    \n",
    "    # Store the dominant frequency returned by each method\n",
    "    dominant_frequencies_combined[i, 0] = dom_freq_fft\n",
    "    dominant_frequencies_combined[i, 1] = dom_freq_time\n",
    "\n",
    "# Clean up by ditching undefined frequencies\n",
    "nan_rows = []\n",
    "for row_i, val in enumerate(dominant_frequencies_combined[:, 0]):\n",
    "    if np.isnan(val) == True:\n",
    "        nan_rows.append(row_i)\n",
    "dominant_frequencies_combined = np.delete(dominant_frequencies_combined, nan_rows, axis=0) # Delete undefined frequencies"
   ]
  },
  {
   "cell_type": "code",
   "execution_count": 7,
   "metadata": {},
   "outputs": [
    {
     "name": "stdout",
     "output_type": "stream",
     "text": [
      "Dominant frequency distribution: individual trials\n"
     ]
    },
    {
     "data": {
      "image/png": "[encoded data removed]",
      "text/plain": [
       "<Figure size 432x288 with 1 Axes>"
      ]
     },
     "metadata": {
      "needs_background": "light"
     },
     "output_type": "display_data"
    },
    {
     "name": "stdout",
     "output_type": "stream",
     "text": [
      "Dominant frequency distribution: neuron-combined trials\n"
     ]
    },
    {
     "data": {
      "image/png": "[encoded data removed]",
      "text/plain": [
       "<Figure size 432x288 with 1 Axes>"
      ]
     },
     "metadata": {
      "needs_background": "light"
     },
     "output_type": "display_data"
    }
   ],
   "source": [
    "# Visualize Dominant Frequencies\n",
    "print(\"Dominant frequency distribution: individual trials\")\n",
    "spike_frequency_histogram(dominant_frequencies_indiv[:, 1], num_bins=10)\n",
    "print(\"Dominant frequency distribution: neuron-combined trials\")\n",
    "spike_frequency_histogram(dominant_frequencies_combined[:, 1], num_bins=10)"
   ]
  },
  {
   "cell_type": "code",
   "execution_count": 8,
   "metadata": {},
   "outputs": [],
   "source": [
    "# Signal characteristics\n",
    "theta_fs = theta_time_axis.size/theta_time_axis[-1] # Sampling frequency\n",
    "theta_nyq = 0.5*theta_fs\n",
    "\n",
    "# Filter characteristics\n",
    "filter_order = 2\n",
    "lowcut = 6 / theta_nyq \n",
    "highcut = 10 / theta_nyq\n",
    "\n",
    "# Create and apply the filter\n",
    "b, a = butter(filter_order, [lowcut, highcut], btype='band') # The IIR\n",
    "theta_filtered = lfilter(b, a, theta) # Applying the filter"
   ]
  },
  {
   "cell_type": "code",
   "execution_count": 9,
   "metadata": {},
   "outputs": [
    {
     "data": {
      "text/plain": [
       "[<matplotlib.lines.Line2D at 0x7f83e63fc430>]"
      ]
     },
     "execution_count": 9,
     "metadata": {},
     "output_type": "execute_result"
    },
    {
     "data": {
      "image/png": "[encoded data removed]",
      "text/plain": [
       "<Figure size 432x288 with 1 Axes>"
      ]
     },
     "metadata": {
      "needs_background": "light"
     },
     "output_type": "display_data"
    }
   ],
   "source": [
    "# Extract theta epochs corresponding to individual trials\n",
    "trial_duration = 4 # seconds\n",
    "trial_N = int(file_data['fs2']*trial_duration)\n",
    "\n",
    "trial_theta_epochs = np.zeros((trial_theta_start_indices.size, trial_N))\n",
    "trial_theta_epochs_x = np.zeros((trial_theta_start_indices.size, trial_N))\n",
    "for i, start_i in enumerate(trial_theta_start_indices):\n",
    "    trial_theta_epochs[i, :] = theta_filtered[start_i:start_i + trial_N]\n",
    "    trial_theta_epochs_x[i, :] = theta_time_axis[start_i:start_i + trial_N]\n",
    "\n",
    "# Visualize \n",
    "epoch_i = 6\n",
    "plt.close()\n",
    "fig, ax = plt.subplots()\n",
    "ax.plot(trial_theta_epochs_x[epoch_i, :], trial_theta_epochs[epoch_i, :])"
   ]
  },
  {
   "cell_type": "code",
   "execution_count": null,
   "metadata": {},
   "outputs": [],
   "source": [
    "# Classify individual trials as being either phase precession [1, 0] or not [0, 1]\n",
    "verbose = True\n",
    "bandwidth = 0.02\n",
    "onehot_vector = np.zeros((dominant_frequencies_indiv.shape[0], 2), dtype=int)\n",
    "for i, dom_freq in enumerate(dominant_frequencies_indiv[:, 1]):\n",
    "    trial_i = pyr_trial_number_label[i] - 1\n",
    "    trial_dur = kde_x_indiv[i][-1] - kde_x_indiv[i][0]\n",
    "    trial_N = int(file_data['fs2']*trial_dur)\n",
    "    theta_interval_y = theta_filtered[trial_theta_start_indices[trial_i]:trial_theta_start_indices[trial_i] + trial_N]\n",
    "    theta_interval_x = theta_time_axis[trial_theta_start_indices[trial_i]:trial_theta_start_indices[trial_i] + trial_N]\n",
    "    theta_freq = average_theta_freq(theta_interval_x, theta_interval_y)\n",
    "\n",
    "    if verbose:\n",
    "        kde_x, kde_y = r_spike_kde([trial_spike_times[i]], bandwidth, trial_N)\n",
    "        PR_plot(kde_y[0], theta_interval_x, theta_interval_y)\n",
    "\n",
    "    if dom_freq - theta_freq > 0:\n",
    "        onehot_vector[i, 0] = 1\n",
    "    else:\n",
    "        onehot_vector[i, 1] = 1\n",
    "print(pyr_trial_neuron_label[np.where(onehot_vector[:, 0] == 1)[0]])\n"
   ]
  }
 ],
 "metadata": {
  "interpreter": {
   "hash": "e7370f93d1d0cde622a1f8e1c04877d8463912d04d973331ad4851f04de6915a"
  },
  "kernelspec": {
   "display_name": "Python 3.10.2 64-bit",
   "language": "python",
   "name": "python3"
  },
  "language_info": {
   "codemirror_mode": {
    "name": "ipython",
    "version": 3
   },
   "file_extension": ".py",
   "mimetype": "text/x-python",
   "name": "python",
   "nbconvert_exporter": "python",
   "pygments_lexer": "ipython3",
   "version": "3.10.2"
  },
  "orig_nbformat": 4
 },
 "nbformat": 4,
 "nbformat_minor": 2
}
