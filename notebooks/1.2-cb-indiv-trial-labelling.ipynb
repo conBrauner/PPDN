{
 "cells": [
  {
   "cell_type": "code",
   "execution_count": 1,
   "metadata": {},
   "outputs": [],
   "source": [
    "# Standard library imports\n",
    "import os\n",
    "import sys\n",
    "import warnings\n",
    "\n",
    "# Third party imports\n",
    "import numpy as np\n",
    "import matplotlib.pyplot as plt\n",
    "import mat73\n",
    "import rpy2.robjects as robjects\n",
    "from scipy.signal import butter, find_peaks, lfilter\n",
    "\n",
    "# Local imports\n",
    "from src.features.preprocessing import *\n",
    "from src.visualization.data_vis import *\n",
    "\n",
    "# Notebook magic\n",
    "%matplotlib inline"
   ]
  },
  {
   "cell_type": "code",
   "execution_count": 2,
   "metadata": {},
   "outputs": [
    {
     "name": "stdout",
     "output_type": "stream",
     "text": [
      "'fitted_data_mjc57-1212-0110.mat' SUMMARY\n",
      "\n",
      "\tNumber of pyramidal neurons: 64\n",
      "\tpyramidal start label: 1.0\n",
      "\tpyramidal end label: 64.0\n",
      "\n",
      "\tNumber of interneurons: 8\n",
      "\tinterneuron start label: 65.0\n",
      "\tinterneuron end label: 72.0\n",
      "\n",
      "Pyramidal neurons [20.0, 23.0, 29.0, 58.0, 62.0, 63.0] absent from qspike.\n"
     ]
    }
   ],
   "source": [
    "# Load up a file of interest\n",
    "recording_of_interest = \"fitted_data_mjc57-1212-0110.mat\"\n",
    "file_data = mat73.loadmat('/'.join([os.getcwd(), 'data', 'raw', recording_of_interest]))\n",
    "\n",
    "# Assign spike data constructs\n",
    "qspike = file_data['qspike'] # trial spike times aligned to maximize likelihood estimate\n",
    "pyrspike = file_data['pyrspike'] # all pyramidal spike times and labels\n",
    "intspike = file_data['intspike'] # all interneuron spike times and labels\n",
    "\n",
    "# Assign theta LFP vectors\n",
    "theta = file_data['lfp']\n",
    "theta_time_axis = file_data['time_eeg']\n",
    "\n",
    "# Determine indices in theta_time_axis where each trial begins\n",
    "trial_shifts = (file_data['BP']*file_data['fs2']).astype(int)\n",
    "unshifted_trial_start_indices = (file_data['tp']*file_data['fs2']).astype(int)\n",
    "trial_start_indices = unshifted_trial_start_indices + trial_shifts\n",
    "\n",
    "# Summarize neuron population\n",
    "print(f'\\'{recording_of_interest}\\' SUMMARY\\n')\n",
    "print(f'\\tNumber of pyramidal neurons: {len(list(set(pyrspike[:, 0])))}')\n",
    "print(f'\\tpyramidal start label: {np.amin(pyrspike[:, 0])}')\n",
    "print(f'\\tpyramidal end label: {np.amax(pyrspike[:, 0])}\\n')\n",
    "\n",
    "print(f'\\tNumber of interneurons: {len(list(set(intspike[:, 0])))}')\n",
    "print(f'\\tinterneuron start label: {np.amin(intspike[:, 0])}')\n",
    "print(f'\\tinterneuron end label: {np.amax(intspike[:, 0])}')\n",
    "\n",
    "# Data preparation\n",
    "print('')\n",
    "pyr_com_trials, pyr_sep_trials, pyr_com_neuron_labels, pyr_sep_neuron_labels, pyr_sep_trial_labels = prep_pyr_qspike(qspike, intspike, pyrspike)"
   ]
  },
  {
   "cell_type": "code",
   "execution_count": 3,
   "metadata": {},
   "outputs": [],
   "source": [
    "# Filter theta and extract full trial epochs\n",
    "\n",
    "# Filter parameters\n",
    "filter_order = 2\n",
    "lowcut = 6 / (file_data['fs2']*0.5)\n",
    "highcut = 10 / (file_data['fs2']*0.5)\n",
    "\n",
    "# Create and apply Butterworth bandpass filter\n",
    "b, a = butter(filter_order, [lowcut, highcut], btype='band') # The IIR\n",
    "theta_filtered = lfilter(b, a, theta) # Apply the filter\n",
    "\n",
    "# Theta epoch extraction\n",
    "trial_duration = 4 # in seconds\n",
    "trial_N = int(file_data['fs2']*trial_duration) # Number of data points in each trial based on theta sampling frequency\n",
    "\n",
    "trial_theta_x = np.zeros((trial_start_indices.size, trial_N), dtype=float) # Columns are data, rows are different trials\n",
    "trial_theta_y = np.zeros((trial_start_indices.size, trial_N), dtype=float) # Columns are data, rows are different trials\n",
    "\n",
    "# Extract complete epochs\n",
    "for trial_i, start_i in enumerate(trial_start_indices):\n",
    "    trial_theta_x[trial_i, :] = theta_time_axis[start_i:start_i + trial_N]\n",
    "    trial_theta_y[trial_i, :] = theta_filtered[start_i:start_i + trial_N]\n"
   ]
  },
  {
   "cell_type": "code",
   "execution_count": 4,
   "metadata": {},
   "outputs": [
    {
     "name": "stdout",
     "output_type": "stream",
     "text": [
      "[0.13389388 1.30424388 1.76479388 1.80434388 1.94084388 2.07189388\n",
      " 2.50119388 3.97964388 3.98349388 3.99794388]\n"
     ]
    },
    {
     "ename": "NameError",
     "evalue": "name 'analytic_boundaries_plot' is not defined",
     "output_type": "error",
     "traceback": [
      "\u001b[0;31m---------------------------------------------------------------------------\u001b[0m",
      "\u001b[0;31mNameError\u001b[0m                                 Traceback (most recent call last)",
      "Input \u001b[0;32mIn [4]\u001b[0m, in \u001b[0;36m<cell line: 25>\u001b[0;34m()\u001b[0m\n\u001b[1;32m     44\u001b[0m     PR_plot(kde_y[\u001b[38;5;241m0\u001b[39m], trial_theta_x[trial_i, :], trial_theta_y[trial_i, :])\n\u001b[1;32m     46\u001b[0m \u001b[38;5;28;01mif\u001b[39;00m classification_method \u001b[38;5;241m==\u001b[39m \u001b[38;5;124m'\u001b[39m\u001b[38;5;124mPRQ\u001b[39m\u001b[38;5;124m'\u001b[39m:\n\u001b[0;32m---> 47\u001b[0m     prq \u001b[38;5;241m=\u001b[39m \u001b[43mcompute_PRQ\u001b[49m\u001b[43m(\u001b[49m\n\u001b[1;32m     48\u001b[0m \u001b[43m        \u001b[49m\u001b[43mtrial_theta_x\u001b[49m\u001b[43m[\u001b[49m\u001b[43mtrial_i\u001b[49m\u001b[43m,\u001b[49m\u001b[43m \u001b[49m\u001b[43m:\u001b[49m\u001b[43m]\u001b[49m\u001b[43m,\u001b[49m\n\u001b[1;32m     49\u001b[0m \u001b[43m        \u001b[49m\u001b[43mtrial_theta_y\u001b[49m\u001b[43m[\u001b[49m\u001b[43mtrial_i\u001b[49m\u001b[43m,\u001b[49m\u001b[43m \u001b[49m\u001b[43m:\u001b[49m\u001b[43m]\u001b[49m\u001b[43m,\u001b[49m\n\u001b[1;32m     50\u001b[0m \u001b[43m        \u001b[49m\u001b[43mtrial_data\u001b[49m\u001b[43m,\u001b[49m\n\u001b[1;32m     51\u001b[0m \u001b[43m        \u001b[49m\u001b[43mfile_data\u001b[49m\u001b[43m[\u001b[49m\u001b[38;5;124;43m'\u001b[39;49m\u001b[38;5;124;43mfs2\u001b[39;49m\u001b[38;5;124;43m'\u001b[39;49m\u001b[43m]\u001b[49m\u001b[43m,\u001b[49m\n\u001b[1;32m     52\u001b[0m \u001b[43m        \u001b[49m\u001b[43mdiscont\u001b[49m\u001b[38;5;241;43m=\u001b[39;49m\u001b[43mprq_boundary_discont_threshold\u001b[49m\u001b[43m,\u001b[49m\n\u001b[1;32m     53\u001b[0m \u001b[43m        \u001b[49m\u001b[43mcheck_analytic\u001b[49m\u001b[38;5;241;43m=\u001b[39;49m\u001b[43mprq_check_analytic_signal\u001b[49m\n\u001b[1;32m     54\u001b[0m \u001b[43m    \u001b[49m\u001b[43m)\u001b[49m\n\u001b[1;32m     56\u001b[0m \u001b[38;5;28;01mif\u001b[39;00m test \u001b[38;5;241m==\u001b[39m \u001b[38;5;28;01mTrue\u001b[39;00m \u001b[38;5;129;01mand\u001b[39;00m i \u001b[38;5;241m==\u001b[39m test_num_iterations:\n\u001b[1;32m     57\u001b[0m     \u001b[38;5;28;01mbreak\u001b[39;00m\n",
      "File \u001b[0;32m~/projects/PPDN/src/features/preprocessing.py:300\u001b[0m, in \u001b[0;36mcompute_PRQ\u001b[0;34m(theta_x, theta_y, spike_times, theta_fs, discont, check_analytic)\u001b[0m\n\u001b[1;32m    298\u001b[0m \u001b[38;5;66;03m# Plot the analytic signal and cycle boundaries derived from it if requested \u001b[39;00m\n\u001b[1;32m    299\u001b[0m \u001b[38;5;28;01mif\u001b[39;00m check_analytic \u001b[38;5;241m==\u001b[39m \u001b[38;5;28;01mTrue\u001b[39;00m:\n\u001b[0;32m--> 300\u001b[0m     \u001b[43manalytic_boundaries_plot\u001b[49m(\n\u001b[1;32m    301\u001b[0m         theta_x,\n\u001b[1;32m    302\u001b[0m         theta_y,\n\u001b[1;32m    303\u001b[0m         cycle_boundary_i,\n\u001b[1;32m    304\u001b[0m         analytic_theta\n\u001b[1;32m    305\u001b[0m     )\n\u001b[1;32m    307\u001b[0m \u001b[38;5;66;03m# Unwrap the phase to prevent reset effects\u001b[39;00m\n\u001b[1;32m    308\u001b[0m theta_phase \u001b[38;5;241m=\u001b[39m np\u001b[38;5;241m.\u001b[39munwrap(theta_phase, discont\u001b[38;5;241m=\u001b[39m\u001b[38;5;28;01mNone\u001b[39;00m, period\u001b[38;5;241m=\u001b[39m\u001b[38;5;241m2\u001b[39m\u001b[38;5;241m*\u001b[39mnp\u001b[38;5;241m.\u001b[39mpi)\n",
      "\u001b[0;31mNameError\u001b[0m: name 'analytic_boundaries_plot' is not defined"
     ]
    }
   ],
   "source": [
    "# For each individual trial, classify PR using one of several methods\n",
    "\n",
    "# Control parameters\n",
    "test = True\n",
    "test_num_iterations = 20\n",
    "classification_method = 'PRQ'\n",
    "\n",
    "# KDE parameters\n",
    "bandwidth = 0.02\n",
    "kde_domain = [0, 4]\n",
    "cut = 3\n",
    "kde_domain_N = trial_N\n",
    "\n",
    "# DFA parameters\n",
    "DFA_window = 0.8 # seconds\n",
    "\n",
    "# PRQ parameters\n",
    "prq_boundary_discont_threshold = 0.95\n",
    "prq_check_analytic_signal = True\n",
    "\n",
    "# Boolean classification vector\n",
    "onehot_vector = np.zeros((len(pyr_sep_trials), 2), dtype=bool)\n",
    "\n",
    "# Iterate over each individual trial\n",
    "for i, trial_data in enumerate(pyr_sep_trials):\n",
    "    \n",
    "    trial_i = int(pyr_sep_trial_labels[i] - 1) # Trial index is one less than trial label\n",
    "    active_domain_dur = (trial_data[-1] + cut*bandwidth) - (trial_data[0] - cut*bandwidth)\n",
    "    active_domain_N = int(file_data['fs2']*active_domain_dur)\n",
    "\n",
    "    kde_x, kde_y = r_spike_kde([trial_data], bandwidth, kde_domain_N, kde_domain)\n",
    "\n",
    "    if classification_method == 'DFA':\n",
    "        detuning = dominant_frequency_analysis(\n",
    "            kde_y[0],\n",
    "            trial_theta_x[trial_i, :],\n",
    "            trial_theta_y[trial_i, :],\n",
    "            DFA_window,\n",
    "            file_data['fs2']\n",
    "       )\n",
    "\n",
    "    if test == True and classification_method == 'DFA':\n",
    "        print(f'Max detuning: {detuning}')\n",
    "        PR_plot(kde_y[0], trial_theta_x[trial_i, :], trial_theta_y[trial_i, :])\n",
    "\n",
    "    if classification_method == 'PRQ':\n",
    "        prq = compute_PRQ(\n",
    "            trial_theta_x[trial_i, :],\n",
    "            trial_theta_y[trial_i, :],\n",
    "            trial_data,\n",
    "            file_data['fs2'],\n",
    "            discont=prq_boundary_discont_threshold,\n",
    "            check_analytic=prq_check_analytic_signal\n",
    "        )\n",
    "\n",
    "    if test == True and i == test_num_iterations:\n",
    "        break\n",
    "\n",
    "\n",
    "\n"
   ]
  }
 ],
 "metadata": {
  "interpreter": {
   "hash": "e7370f93d1d0cde622a1f8e1c04877d8463912d04d973331ad4851f04de6915a"
  },
  "kernelspec": {
   "display_name": "Python 3.10.2 64-bit",
   "language": "python",
   "name": "python3"
  },
  "language_info": {
   "codemirror_mode": {
    "name": "ipython",
    "version": 3
   },
   "file_extension": ".py",
   "mimetype": "text/x-python",
   "name": "python",
   "nbconvert_exporter": "python",
   "pygments_lexer": "ipython3",
   "version": "3.10.2"
  },
  "orig_nbformat": 4
 },
 "nbformat": 4,
 "nbformat_minor": 2
}
